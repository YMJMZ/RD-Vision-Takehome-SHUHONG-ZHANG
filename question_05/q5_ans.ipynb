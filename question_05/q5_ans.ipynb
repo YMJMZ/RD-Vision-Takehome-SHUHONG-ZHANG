{
 "cells": [
  {
   "cell_type": "code",
   "execution_count": 49,
   "metadata": {},
   "outputs": [
    {
     "name": "stdout",
     "output_type": "stream",
     "text": [
      "epoch 1/100: loss = 0.2656\n",
      "epoch 21/100: loss = 0.2066\n",
      "epoch 41/100: loss = 0.1668\n",
      "epoch 61/100: loss = 0.1668\n",
      "epoch 81/100: loss = 0.1667\n",
      "\n",
      "Prediction:\n",
      "input = [0. 0.], output = [ True]\n",
      "input = [0. 1.], output = [ True]\n",
      "input = [1. 0.], output = [ True]\n",
      "input = [1. 1.], output = [False]\n"
     ]
    }
   ],
   "source": [
    "import torch\n",
    "import torch.nn as nn\n",
    "import torch.nn.functional as F\n",
    "from torch.utils.data import Dataset, DataLoader\n",
    "\n",
    "class MLP(nn.Module):\n",
    "    # 2 hidden-layers MLP\n",
    "    def __init__(self, in_channels=2, out_channels=1):\n",
    "        super().__init__()\n",
    "        self.in_layer = nn.Linear(in_channels, 2*in_channels)\n",
    "        self.hidden_layer = nn.Linear(2*in_channels, 2*out_channels)\n",
    "        self.out_layer = nn.Linear(2*out_channels, out_channels)\n",
    "\n",
    "    def forward(self, x):\n",
    "        h_1 = torch.sigmoid(self.in_layer(x))\n",
    "        h_2 = torch.sigmoid(self.hidden_layer(h_1))\n",
    "        output = torch.sigmoid(self.out_layer(h_2))\n",
    "\n",
    "        return output\n",
    "\n",
    "X = torch.tensor([[0,0], [0,1], [1,0], [1,1]], dtype=torch.float32)\n",
    "Y = torch.tensor([[0], [1], [1], [0]], dtype=torch.float32)\n",
    "\n",
    "learning_rate = 1\n",
    "epoches = 100\n",
    "model = MLP()\n",
    "\n",
    "criterion = nn.MSELoss()\n",
    "optimizer = torch.optim.Adam(model.parameters(), lr=learning_rate)\n",
    "\n",
    "\n",
    "\n",
    "for epoch in range(epoches):\n",
    "    y_pred = model(X)\n",
    "    loss = criterion(y_pred, Y)\n",
    "\n",
    "    loss.backward()\n",
    "\n",
    "    optimizer.step()\n",
    "\n",
    "    optimizer.zero_grad()\n",
    "\n",
    "    if epoch % (epoches/5) == 0:\n",
    "        print(f'epoch {epoch+1}/{epoches}: loss = {loss.item():.4f}')\n",
    "\n",
    "y_pred = model(X).detach().numpy()>0.5\n",
    "\n",
    "print('\\nPrediction:')\n",
    "for x, y in zip(X.numpy(), y_pred):\n",
    "    print(f'input = {x}, output = {y}')"
   ]
  },
  {
   "cell_type": "markdown",
   "metadata": {},
   "source": [
    "Theoretically, MLP should have fitted XOR function, but my model encounters with local minima, so it cannot fit XOR perfectly."
   ]
  }
 ],
 "metadata": {
  "interpreter": {
   "hash": "6aff86ec533c78ec46411791c08c60b9493f23b868412c8b211c694876cf9217"
  },
  "kernelspec": {
   "display_name": "Python 3.8.12 ('robot')",
   "language": "python",
   "name": "python3"
  },
  "language_info": {
   "codemirror_mode": {
    "name": "ipython",
    "version": 3
   },
   "file_extension": ".py",
   "mimetype": "text/x-python",
   "name": "python",
   "nbconvert_exporter": "python",
   "pygments_lexer": "ipython3",
   "version": "3.8.12"
  },
  "orig_nbformat": 4
 },
 "nbformat": 4,
 "nbformat_minor": 2
}
