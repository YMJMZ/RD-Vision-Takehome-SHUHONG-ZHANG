{
 "cells": [
  {
   "cell_type": "code",
   "execution_count": 52,
   "metadata": {},
   "outputs": [
    {
     "name": "stdout",
     "output_type": "stream",
     "text": [
      "---Gradient descent begin----\n",
      "epoch 1/20: f(x) = 74.0\n",
      "epoch 5/20: f(x) = 25489800.0\n",
      "epoch 9/20: f(x) = 1.519310474395752\n",
      "epoch 13/20: f(x) = 9.06595687411027e-08\n",
      "---Gradient descent end----\n",
      "result:\n",
      "x = tensor([1.0000, 3.0000], requires_grad=True)\n",
      "y = 0.0\n"
     ]
    }
   ],
   "source": [
    "import torch\n",
    "\n",
    "# Function1: f(x1,x2) = (x1 + 2*x2 + 7)^2 + (2*x1 + x2 - 5)^2\n",
    "def forward(x):\n",
    "    y = (x[0] + 2*x[1] - 7)**2 + (2*x[0] + x[1] -5)**2\n",
    "    return y\n",
    "\n",
    "# Gradient descent\n",
    "def train(x, func, learning_rate=0.1, epoches=10):\n",
    "    y_last = torch.inf\n",
    "    print('---Gradient descent begin----')\n",
    "    for epoch in range(epoches):\n",
    "        y = func(x)\n",
    "\n",
    "        y.backward()\n",
    "\n",
    "        # Auto learning rate adjustment\n",
    "        if y > y_last:\n",
    "            learning_rate *= 0.5\n",
    "\n",
    "        y_last = y\n",
    "        \n",
    "        # Find the optimal\n",
    "        if torch.sum(x.grad) == 0:\n",
    "            break\n",
    "\n",
    "        # Gradient descent\n",
    "        with torch.no_grad():\n",
    "            x -= learning_rate*x.grad\n",
    "\n",
    "        x.grad.zero_()\n",
    "        if epoch % (epoches/5) ==0 :\n",
    "            print(f'epoch {epoch+1}/{epoches}: f(x) = {y}')\n",
    "\n",
    "    print('---Gradient descent end----')\n",
    "    \n",
    "    return x\n",
    "\n",
    "# Initial x\n",
    "x = torch.zeros(2, requires_grad=True)\n",
    "\n",
    "# Learning rate and epoches\n",
    "learning_rate = 1\n",
    "epoches = 20\n",
    "\n",
    "res = train(x, forward, learning_rate, epoches)\n",
    "\n",
    "print('result:')\n",
    "print(f'x = {x}')\n",
    "print(f'y = {forward(x)}')"
   ]
  },
  {
   "cell_type": "code",
   "execution_count": 57,
   "metadata": {},
   "outputs": [
    {
     "name": "stdout",
     "output_type": "stream",
     "text": [
      "---Gradient descent begin----\n",
      "epoch 1/20000: f(x) = 1.0\n",
      "epoch 4001/20000: f(x) = 0.00046241970267146826\n",
      "epoch 8001/20000: f(x) = 8.023236659937538e-06\n",
      "epoch 12001/20000: f(x) = 1.470353936383617e-07\n",
      "epoch 16001/20000: f(x) = 2.6210642545265728e-09\n",
      "---Gradient descent end----\n",
      "result:\n",
      "x = tensor([1.0000, 0.9999], requires_grad=True)\n",
      "y = 1.2804015625533793e-09\n"
     ]
    }
   ],
   "source": [
    "def forward(x):\n",
    "    y = 100 * (x[1] - x[0] ** 2) ** 2 + (1 - x[0]) ** 2\n",
    "    return y\n",
    "\n",
    "# Initial x\n",
    "x = torch.zeros(2, requires_grad=True)\n",
    "\n",
    "# Learning rate and epoches\n",
    "learning_rate = 0.01\n",
    "epoches = 20000\n",
    "\n",
    "res = train(x, forward, learning_rate, epoches)\n",
    "\n",
    "print('result:')\n",
    "print(f'x = {x}')\n",
    "print(f'y = {forward(x)}')"
   ]
  }
 ],
 "metadata": {
  "interpreter": {
   "hash": "6aff86ec533c78ec46411791c08c60b9493f23b868412c8b211c694876cf9217"
  },
  "kernelspec": {
   "display_name": "Python 3.8.12 ('robot')",
   "language": "python",
   "name": "python3"
  },
  "language_info": {
   "codemirror_mode": {
    "name": "ipython",
    "version": 3
   },
   "file_extension": ".py",
   "mimetype": "text/x-python",
   "name": "python",
   "nbconvert_exporter": "python",
   "pygments_lexer": "ipython3",
   "version": "3.8.12"
  },
  "orig_nbformat": 4
 },
 "nbformat": 4,
 "nbformat_minor": 2
}
